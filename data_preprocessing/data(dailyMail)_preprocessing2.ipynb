{
 "cells": [
  {
   "cell_type": "markdown",
   "metadata": {},
   "source": [
    "# 'PBULISHED:, UPDATED:' 2차제거  && 특수문자제거 및 소문자만들기"
   ]
  },
  {
   "cell_type": "code",
   "execution_count": 2,
   "metadata": {
    "scrolled": true
   },
   "outputs": [
    {
     "name": "stdout",
     "output_type": "stream",
     "text": [
      "120411\n",
      "120411\n"
     ]
    }
   ],
   "source": [
    "import unicodedata\n",
    "import re\n",
    "import numpy as np\n",
    "import pandas as pd\n",
    "from os import listdir\n",
    "\n",
    "result = pd.read_csv('dailymail_stories_preprocessing1.csv')\n",
    "\n",
    "# 해당값이 아닌것만 저장! 즉, 해당값 제거!\n",
    "# 변수에 따로 넣어줘야함!\n",
    "# result = result[result.index != 1]\n",
    "result[result.index != 1]\n",
    "\n",
    "print(len(result['story']))\n",
    "print(len(result['highlights']))"
   ]
  },
  {
   "cell_type": "code",
   "execution_count": 3,
   "metadata": {},
   "outputs": [
    {
     "name": "stdout",
     "output_type": "stream",
     "text": [
      "812\n",
      "119599\n",
      "119599\n"
     ]
    }
   ],
   "source": [
    "# 특수문자 제거 & 소문자 만들기\n",
    "def preprocess_sentence(line):\n",
    "\n",
    "    # creating a space between a word and the punctuation following it\n",
    "    # eg: \"he is a boy.\" => \"he is a boy .\"\n",
    "    # Reference:- https://stackoverflow.com/questions/3645931/python-padding-punctuation-with-white-spaces-keeping-punctuation\n",
    "    line = re.sub(r\"([?.!,¿])\", r\" \\1 \", line)\n",
    "    line = re.sub(r'[\" \"]+', \" \", line)\n",
    "\n",
    "    # replacing everything with space except (a-z, A-Z, \".\", \"?\", \"!\", \",\")\n",
    "    line = re.sub(r\"[^a-zA-Z0-9?.!,@%$¿]+\", \" \", line)\n",
    "\n",
    "    return line.strip().lower()\n",
    "\n",
    "\n",
    "\n",
    "\n",
    "# PUBLISHED: & UPDATED: 2차 삭제!!!!!!!!\n",
    "useless_list = []\n",
    "for i, v in enumerate(result['story']):\n",
    "    if 'PUBLISHED:' in v or 'UPDATED:' in v :\n",
    "        useless_list.append(i)\n",
    "        result = result[result.index != i]\n",
    "    else:\n",
    "        result['story'][i] = preprocess_sentence(result['story'][i])\n",
    "        result['highlights'][i] = preprocess_sentence(result['highlights'][i])\n",
    "\n",
    "# 120,411 - (726 + 86) = 119,599\n",
    "print(len(useless_list))\n",
    "print(len(result['story']))\n",
    "print(len(result['highlights']))\n",
    "result.to_csv('dailymail_stories_preprocessing2.csv', index=False)"
   ]
  },
  {
   "cell_type": "markdown",
   "metadata": {},
   "source": [
    "# 중복값 체크1 (중복 제거 후 필요한만큼 데이터 저장)"
   ]
  },
  {
   "cell_type": "code",
   "execution_count": 200,
   "metadata": {},
   "outputs": [
    {
     "name": "stdout",
     "output_type": "stream",
     "text": [
      "중복체크 이전\n",
      "119599\n",
      "119599 \n",
      "\n",
      "story 중복체크 후 데이터 갯수\n",
      "119576\n",
      "119576 \n",
      "\n",
      "highlights 중복체크 후 데이터 갯수\n",
      "119151\n",
      "119151\n"
     ]
    }
   ],
   "source": [
    "duplicate_check = pd.read_csv('dailymail_stories_preprocessing2.csv').dropna()\n",
    "print('중복체크 이전')\n",
    "print(len(duplicate_check['story']))\n",
    "print(len(duplicate_check['highlights']), '\\n')\n",
    "\n",
    "duplicate_check = duplicate_check.drop_duplicates(subset = 'story')\n",
    "print('story 중복체크 후 데이터 갯수')\n",
    "print(len(duplicate_check['story']))\n",
    "print(len(duplicate_check['highlights']), '\\n')\n",
    "\n",
    "duplicate_check = duplicate_check.drop_duplicates(subset = 'highlights')\n",
    "print('highlights 중복체크 후 데이터 갯수')\n",
    "print(len(duplicate_check['story']))\n",
    "print(len(duplicate_check['highlights']))\n",
    "\n",
    "duplicate_check.to_csv('dailymail_stories_preprocessing2.csv', index = False)   "
   ]
  },
  {
   "cell_type": "markdown",
   "metadata": {},
   "source": [
    "# dailymail 데이터 랜덤하게 섞고 6만개 데이터 저장(train+vali)"
   ]
  },
  {
   "cell_type": "code",
   "execution_count": 201,
   "metadata": {},
   "outputs": [
    {
     "name": "stdout",
     "output_type": "stream",
     "text": [
      "119151\n"
     ]
    }
   ],
   "source": [
    "dailymail_articles = pd.read_csv('dailymail_stories_preprocessing2.csv')\n",
    "print(len(dailymail_articles['story']))   #119151\n",
    "\n",
    "# The frac keyword argument specifies the fraction of rows to return in the random sample, so frac=1 means return all rows (in random order).\n",
    "# Here, specifying drop=True prevents .reset_index from creating a column containing the old index entries.\n",
    "dailymail_articles = dailymail_articles.sample(frac=1).reset_index(drop=True)\n",
    "dailymail_articles = dailymail_articles[:60000]\n",
    "dailymail_articles.to_csv('dailymail_stories.csv', index=False)"
   ]
  },
  {
   "cell_type": "markdown",
   "metadata": {},
   "source": [
    "# train, test 분류(5만, 1만)"
   ]
  },
  {
   "cell_type": "code",
   "execution_count": 202,
   "metadata": {},
   "outputs": [
    {
     "name": "stdout",
     "output_type": "stream",
     "text": [
      "50000\n",
      "10000\n"
     ]
    }
   ],
   "source": [
    "dailymail_articles = pd.read_csv('dailymail_stories.csv')\n",
    "dailymail_articles_train = dailymail_articles[:50000]\n",
    "dailymail_articles_train.to_csv('dailymail_stories_train.csv', index=False)\n",
    "\n",
    "dailymail_articles_test = dailymail_articles[50000:]\n",
    "dailymail_articles_test.to_csv('dailymail_stories_test.csv', index=False)\n",
    "\n",
    "print(len(dailymail_articles_train['highlights']))\n",
    "print(len(dailymail_articles_test['story']))"
   ]
  },
  {
   "cell_type": "markdown",
   "metadata": {},
   "source": [
    "# CNN, DAILYMAIL train_data 합치기!"
   ]
  },
  {
   "cell_type": "code",
   "execution_count": 209,
   "metadata": {},
   "outputs": [
    {
     "name": "stdout",
     "output_type": "stream",
     "text": [
      "50000\n",
      "50000\n",
      "50000\n",
      "50000\n"
     ]
    }
   ],
   "source": [
    "cnn_train = pd.read_csv('cnn_stories_train.csv').dropna()\n",
    "dailymail_train = pd.read_csv('dailymail_stories_train.csv').dropna()\n",
    "\n",
    "print(len(cnn_train['story']))\n",
    "print(len(cnn_train['highlights']))\n",
    "print(len(dailymail_train['story']))\n",
    "print(len(dailymail_train['highlights']))"
   ]
  },
  {
   "cell_type": "code",
   "execution_count": 210,
   "metadata": {
    "collapsed": true
   },
   "outputs": [
    {
     "name": "stdout",
     "output_type": "stream",
     "text": [
      "                                              highlights  \\\n",
      "0      the american public must be part of preventing...   \n",
      "1      java vulnerability is due to incomplete patch ...   \n",
      "2      netanyahu s party wins but the centrists do we...   \n",
      "3      ruben navarrette we re a nation divided into t...   \n",
      "4      pastels and prints among recurring trends at t...   \n",
      "5      1 , 500 protest effort to end birthright citiz...   \n",
      "6      former secretary of state u . s . made huge mi...   \n",
      "7      flooding in pakistan has left more than 420 pe...   \n",
      "8      catfish creators say play it safe when meeting...   \n",
      "9      the usda is considering assigning veterinarian...   \n",
      "10     nasa used company that specializes in restorin...   \n",
      "11     high temperatures are recorded on the northern...   \n",
      "12     despite split , there is no word on a divorce ...   \n",
      "13     paul waldman background check failure another ...   \n",
      "14     michael hossack lost his battle with cancer on...   \n",
      "15     google s project wing has flown more than 30 t...   \n",
      "16     puerto rican college graduate shares her story...   \n",
      "17     writers two men find themselves on u . s . no ...   \n",
      "18     london police praise behavior of scotland fans...   \n",
      "19     u . s . military spokesman weighs in on cleric...   \n",
      "20     i remember the sounds of my mothers screams , ...   \n",
      "21     prosecutor justice has been served . . . . i m...   \n",
      "22     guardians of the galaxy is top grosser of 2014...   \n",
      "23     you may not recognize their faces , but some v...   \n",
      "24     armenian diaspora in n . america launched medi...   \n",
      "25     dan jones royal births in past were world news...   \n",
      "26     there is no evidence that the boy intended to ...   \n",
      "27     racing santander players stage boycott of copa...   \n",
      "28     the plexidrone is a new ready to fly tool for ...   \n",
      "29     nasser al attiyah pulls out of the 2012 dakar ...   \n",
      "...                                                  ...   \n",
      "99970  lee pekish , who lives in aurora , colorado on...   \n",
      "99971  mi5 has placed job advert on website calling f...   \n",
      "99972  matt gone has more than 95 per cent of his bod...   \n",
      "99973  ireland comfortably beat england 19 9 at the a...   \n",
      "99974  ex double winner watched southampton defeat wi...   \n",
      "99975  mayfair club crockfords claims phil ivey opera...   \n",
      "99976  the irish actor was snapped topless filming sc...   \n",
      "99977  vincent kompany says future england world cup ...   \n",
      "99978  obama and christie were a picture of bipartisa...   \n",
      "99979  climbers last heard from while they were in li...   \n",
      "99980  a 40 year old woman was shot dead saturday mor...   \n",
      "99981  tal gottesman braved a long haul flight to cos...   \n",
      "99982  arturo vidal scored from the spot to give juve...   \n",
      "99983  michigan residents may see winter arrive soone...   \n",
      "99984  the president said 22 times that he didn t hav...   \n",
      "99985  pollution levels wafting from china could be e...   \n",
      "99986  adrian muir has been jailed for 18 years for m...   \n",
      "99987  drug enforcement administration says mexican c...   \n",
      "99988  a video emerged of wayne rooney which appears ...   \n",
      "99989  made by robert didier at his orchard pigs bake...   \n",
      "99990  abc host landed the first television interview...   \n",
      "99991  friday and saturday tables at union street caf...   \n",
      "99992  the 28 year old twins founded their first high...   \n",
      "99993  mother of one stephanie mccrea was arrested ja...   \n",
      "99994  former nurse dorothy byrd , 98 , died of a mor...   \n",
      "99995  the stunning shots show the bears playing toge...   \n",
      "99996  shay given to start against liverpool in fa cu...   \n",
      "99997  analysts say move is ploy try to show that it ...   \n",
      "99998  captain edwin tritschler , 48 , is accused of ...   \n",
      "99999  italian politician federica mazzoni found labe...   \n",
      "\n",
      "                                                   story  \n",
      "0      the boston attacks have jolted americans into ...  \n",
      "1      the critical java vulnerability that is curren...  \n",
      "2      prime minister benjamin netanyahu s party got ...  \n",
      "3      our politics have changed in america and , unf...  \n",
      "4      comfortable . minimalist . safari . mullets . ...  \n",
      "5      an arizona state lawmaker s push to end the gu...  \n",
      "6      former secretary of state madeleine albright s...  \n",
      "7      floods resulting from monsoon rains have kille...  \n",
      "8      everyone and we mean everyone puts their prove...  \n",
      "9      the u . s . department of agriculture is consi...  \n",
      "10     nasa released newly restored videos thursday o...  \n",
      "11     a high temperature of 63 . 5 degrees fahrenhei...  \n",
      "12     christina aguilera has split with husband jord...  \n",
      "13     when the manchin toomey background check amend...  \n",
      "14     doobie brothers drummer michael hossack died a...  \n",
      "15     amazon is trying it . ups has considered it . ...  \n",
      "16     if it were up to surey miranda , she would hav...  \n",
      "17     jameel algibhah lives in the bronx , but his w...  \n",
      "18     london s metropolitan police have praised the ...  \n",
      "19     radical anti american cleric muqtada al sadr t...  \n",
      "20     barack obama s father was more abusive and vio...  \n",
      "21     the doctor at the center of an investigation i...  \n",
      "22     the star lord is officially the star of the bo...  \n",
      "23     frank welker s name may not immediately ring a...  \n",
      "24     the business deal looked fairly straightforwar...  \n",
      "25     on january 6 , 1367 , at the abbey of st . and...  \n",
      "26     no charges will be brought against a 10 year o...  \n",
      "27     crisis club racing santander has been thrown o...  \n",
      "28     even when a drone s small , turned off , unarm...  \n",
      "29     nasser al attiyah has called time on the defen...  \n",
      "...                                                  ...  \n",
      "99970  an 80 year old korean war veteran who s relian...  \n",
      "99971  britain s spy chiefs have launched a recruitme...  \n",
      "99972  one of the world s most tattooed men served as...  \n",
      "99973  england s hopes of winning the grand slam is o...  \n",
      "99974  manchester united legend andrei kanchelskis ha...  \n",
      "99975  a gambler who is suing britain s oldest casino...  \n",
      "99976  not since colin firth emerged from a lake in t...  \n",
      "99977  manchester city captain vincent kompany believ...  \n",
      "99978  president barack obama and new jersey gov . ch...  \n",
      "99979  what appear to be three bodies have been spott...  \n",
      "99980  a former new york city transit cop shot and ki...  \n",
      "99981  it ll be hell with a baby , said my friend , m...  \n",
      "99982  in the end it took a searching ball from the c...  \n",
      "99983  michigan residents may see a cold and icy wint...  \n",
      "99984  as house republicans push a bill this week tha...  \n",
      "99985  the obama administration took steps wednesday ...  \n",
      "99986  adrian muir has been jailed for 18 years for t...  \n",
      "99987  mexican drug cartels are now smuggling higher ...  \n",
      "99988  louis van gaal claims the world is twisted aft...  \n",
      "99989  made with champagne and 23 carat gold , the wo...  \n",
      "99990  abc news george stephanopoulos landed the high...  \n",
      "99991  an incredible 2 , 500 bookings were taken at d...  \n",
      "99992  designer duo mary kate and ashley olsen have r...  \n",
      "99993  a married high school teacher from washington ...  \n",
      "99994  police in chicago have launched a murder inves...  \n",
      "99995  lying back in the snow , these two polar bears...  \n",
      "99996  shay given has revealed the pain still lingers...  \n",
      "99997  north korea on saturday proposed a joint inves...  \n",
      "99998  captain edwin tritschler pictured is accused o...  \n",
      "99999  an italian clothing manufacturer has been accu...  \n",
      "\n",
      "[100000 rows x 2 columns]\n"
     ]
    }
   ],
   "source": [
    "train_data = cnn_train.append(dailymail_train, ignore_index = True)   #index값 순차적으로 설정! (0-99999)\n",
    "print(train_data)"
   ]
  },
  {
   "cell_type": "code",
   "execution_count": 211,
   "metadata": {},
   "outputs": [],
   "source": [
    "train_data.to_csv('train_data.csv', index=False)"
   ]
  },
  {
   "cell_type": "markdown",
   "metadata": {},
   "source": [
    "# CNN, DAILYMAIL test_data 합치기!"
   ]
  },
  {
   "cell_type": "code",
   "execution_count": 212,
   "metadata": {},
   "outputs": [
    {
     "name": "stdout",
     "output_type": "stream",
     "text": [
      "10000\n",
      "10000\n",
      "10000\n",
      "10000\n"
     ]
    }
   ],
   "source": [
    "cnn_test = pd.read_csv('cnn_stories_test.csv').dropna()\n",
    "dailymail_test = pd.read_csv('dailymail_stories_test.csv').dropna()\n",
    "\n",
    "print(len(cnn_test['story']))\n",
    "print(len(cnn_test['highlights']))\n",
    "print(len(dailymail_test['story']))\n",
    "print(len(dailymail_test['highlights']))"
   ]
  },
  {
   "cell_type": "code",
   "execution_count": 213,
   "metadata": {
    "collapsed": true
   },
   "outputs": [
    {
     "name": "stdout",
     "output_type": "stream",
     "text": [
      "                                              highlights  \\\n",
      "0      mohamed morsy , in berlin , rejects extraordin...   \n",
      "1      uruguay thrash jordan 5 0 in their world cup q...   \n",
      "2      sen . barack obama , iraqi prime minister repo...   \n",
      "3      an indiana father and son s dreams of raising ...   \n",
      "4      rules let groups like religious hospitals , sc...   \n",
      "5      ryan calo like pilot s claim , we are going to...   \n",
      "6      iranian conservatives say they captured most s...   \n",
      "7      u . s . open champion sam stosur loses to unse...   \n",
      "8      japanese football team vegalta sendai had best...   \n",
      "9      united states is proposing tough new sanctions...   \n",
      "10     two pharmacies sold drugs without valid prescr...   \n",
      "11     surely the president and his staff will make t...   \n",
      "12     unabomber ted kaczynski fighting to stop aucti...   \n",
      "13     men suffered injuries after being carried alon...   \n",
      "14     australian expert panel recommends opening off...   \n",
      "15     pele threatened with court action unless he re...   \n",
      "16     alleged incident happened in match at st james...   \n",
      "17     marine source describes fighting as our most s...   \n",
      "18     breaking bad , true detective facing off for b...   \n",
      "19     168 police officers and 67 firefighters are la...   \n",
      "20     red river was 17 feet above its flood stage in...   \n",
      "21     added sugar is associated with cardiovascular ...   \n",
      "22     lawyer martin s treatment by his teammates led...   \n",
      "23     wilkerson s bond is set at $1 . 2 million , pu...   \n",
      "24     pakistan s election saturday has potential to ...   \n",
      "25     women hesitate to say no out of fear they will...   \n",
      "26     jim messina post election , a new organization...   \n",
      "27     writers differ widely in politics one headed a...   \n",
      "28     john helinski s id and social security cards h...   \n",
      "29     more details emerge about george zimmerman at ...   \n",
      "...                                                  ...   \n",
      "19970  warning graphic content . mike wilcock , 58 , ...   \n",
      "19971  radical claim made by dr milton wainwright fro...   \n",
      "19972  west indies opener kraigg brathwaite missed th...   \n",
      "19973  alejandro sabella resigned as argentina boss a...   \n",
      "19974  hotel barcelo raval has a panoramic rooftop te...   \n",
      "19975  hadas had the barbaric practice in eritrea , a...   \n",
      "19976  floyd mayweather and manny pacquiao fight in l...   \n",
      "19977  kathy ireland , 51 , told the audience she cou...   \n",
      "19978  marriott international will pay a $600 , 000 f...   \n",
      "19979  the male tan and white springer spaniel was du...   \n",
      "19980  aditya mehta made the final at inaugural india...   \n",
      "19981  first minister invites the cameras into her sp...   \n",
      "19982  mitsubishi lancer crashed through family s fen...   \n",
      "19983  rudy gestede reacted angrily to what is believ...   \n",
      "19984  girl , seven , and brothers , aged three and 1...   \n",
      "19985  marko arnautovic is becoming frustrated at a l...   \n",
      "19986  sarah lemon , 43 , reached size 30 after years...   \n",
      "19987  crash victims named as michael owen , 21 , and...   \n",
      "19988  stefan martens cared for father janek for 20 y...   \n",
      "19989  new jersey resident drew kanevsky got a miniat...   \n",
      "19990  speroni has penned new deal with crystal palac...   \n",
      "19991  calvin harris from upstate new york is accused...   \n",
      "19992  the 28 year veteran abruptly retired four days...   \n",
      "19993  two radical islamists have already been put on...   \n",
      "19994  darren fletcher s deal went through after the ...   \n",
      "19995  asu linebacker davon durant , 19 , was arreste...   \n",
      "19996  football to be a compulsory part of national c...   \n",
      "19997  mike tindall is taking part in the second seri...   \n",
      "19998  diego costa scored chelsea s second goal again...   \n",
      "19999  zbigniew huminski charged with raping and murd...   \n",
      "\n",
      "                                                   story  \n",
      "0      an islamist party that once supported egyptian...  \n",
      "1      it took jordan two years , two group stages an...  \n",
      "2      sen . barack obama and iraqi prime minister nu...  \n",
      "3      a california entrepreneur is helping salvage t...  \n",
      "4      the obama administration finalized rules on fr...  \n",
      "5      an alitalia passenger jet pilot said he saw a ...  \n",
      "6      iranian conservatives have said they captured ...  \n",
      "7      u . s . open champion sam stosur suffered anot...  \n",
      "8      in sport , finishing fourth rarely provokes sc...  \n",
      "9      brazil will not bend to u . s . pressure to se...  \n",
      "10     pharmacies in utah and illinois are at the hea...  \n",
      "11     the mother of wikileaks founder julian assange...  \n",
      "12     convicted unabomber ted kaczynski , who terror...  \n",
      "13     two customers are suing wal mart for negligenc...  \n",
      "14     just six weeks after the australian senate rej...  \n",
      "15     brazil legend pele has been threatened with co...  \n",
      "16     manchester united defender jonny evans and new...  \n",
      "17     u . s . marines on friday kept up a major push...  \n",
      "18     will it be a bad night or a true one ? the 66t...  \n",
      "19     the mayor of crime ridden camden , new jersey ...  \n",
      "20     seven hundred thousand sandbags guarded the ci...  \n",
      "21     sugar lovers may have to face a bitter truth t...  \n",
      "22     vulgar comments , some laced with racial epith...  \n",
      "23     she was trying to get help for her sister . he...  \n",
      "24     never before in pakistan s history has a parli...  \n",
      "25     last weekend at a party , i noticed a toad lik...  \n",
      "26     you can t change washington from the inside . ...  \n",
      "27     we don t agree often . in fact , for most of o...  \n",
      "28     no identification , no social security card an...  \n",
      "29     for nearly two months , george zimmerman has b...  \n",
      "...                                                  ...  \n",
      "19970  mike wilcock suffered third degree burns after...  \n",
      "19971  since 2013 , dr milton wainwright has been try...  \n",
      "19972  england removed both west indies openers after...  \n",
      "19973  alejandro sabella has emerged as a shock conte...  \n",
      "19974  a space age chain mail structure stands tall i...  \n",
      "19975  hadas from eritrea , africa , talks about her ...  \n",
      "19976  freddie roach insisted on saturday that floyd ...  \n",
      "19977  she s graced the pages of sports illustrated 1...  \n",
      "19978  marriott international will pay a $600 , 000 f...  \n",
      "19979  the body of a starved springer spaniel found d...  \n",
      "19980  aditya mehta was a surprise home finalist at t...  \n",
      "19981  nicola sturgeon today revealed how she dodges ...  \n",
      "19982  a young driver has started his easter weekend ...  \n",
      "19983  the fa have launched a probe into allegations ...  \n",
      "19984  the mother of three young children found aband...  \n",
      "19985  dutch side feyenoord want to take marko arnaut...  \n",
      "19986  as the owner of a food shop , sarah lemon was ...  \n",
      "19987  young father michael owen was preparing for hi...  \n",
      "19988  lost it stefan martens attacked his father wit...  \n",
      "19989  the older generation are often befuddled by mo...  \n",
      "19990  crystal palace goalkeeper julian speroni has e...  \n",
      "19991  a multimillionaire car dealer is facing a thir...  \n",
      "19992  the nypd s highest ranking black official abru...  \n",
      "19993  swift justice nicolas sarkozy instantly expell...  \n",
      "19994  how do deals still go through after the window...  \n",
      "19995  the girlfriend of an arizona state university ...  \n",
      "19996  for the most populous nation on the planet , t...  \n",
      "19997  his announcement as a contestant on reality sh...  \n",
      "19998  eventually he snapped , trudging off the field...  \n",
      "19999  schoolgirl killer zbigniew huminski pictured d...  \n",
      "\n",
      "[20000 rows x 2 columns]\n"
     ]
    }
   ],
   "source": [
    "test_data = cnn_test.append(dailymail_test, ignore_index = True)   #index값 순차적으로 설정! (0-99999)\n",
    "print(test_data)"
   ]
  },
  {
   "cell_type": "code",
   "execution_count": 214,
   "metadata": {},
   "outputs": [],
   "source": [
    "test_data.to_csv('test_data.csv', index=False)"
   ]
  },
  {
   "cell_type": "markdown",
   "metadata": {},
   "source": [
    "# 전체 중복값 체크"
   ]
  },
  {
   "cell_type": "code",
   "execution_count": 194,
   "metadata": {
    "collapsed": true
   },
   "outputs": [
    {
     "name": "stdout",
     "output_type": "stream",
     "text": [
      "  key1 key2  col\n",
      "0    a    v    1\n",
      "1    b    w    2\n",
      "2    b    w    3\n",
      "3    c    x    4\n",
      "4    c    y    5 \n",
      "\n",
      "5\n",
      "3\n",
      "\n",
      "   key1 key2  col\n",
      "0    a    v    1\n",
      "1    b    w    2\n",
      "3    c    x    4\n",
      "\n",
      "   key1 key2  col\n",
      "0    a    v    1\n",
      "1    b    w    2\n",
      "2    c    x    4\n"
     ]
    }
   ],
   "source": [
    "#예시\n",
    "data = pd.DataFrame({'key1':['a', 'b', 'b', 'c', 'c'], 'key2':['v', 'w', 'w', 'x', 'y'], 'col':[1, 2, 3, 4, 5]})\n",
    "print(len(data['key1']))   # 중복값 체크 없을 땐 5개\n",
    "\n",
    "data = data.drop_duplicates(subset = 'key1')\n",
    "print(len(data['key1']))   # 중복 체크하면 3개\n",
    "print('\\n', data)\n",
    "\n",
    "data.to_csv('aa.csv', index = False)   \n",
    "gg = pd.read_csv('aa.csv')\n",
    "print('\\n', gg)"
   ]
  },
  {
   "cell_type": "code",
   "execution_count": 218,
   "metadata": {},
   "outputs": [
    {
     "name": "stdout",
     "output_type": "stream",
     "text": [
      "100000\n",
      "100000\n",
      "99999\n",
      "99999\n"
     ]
    }
   ],
   "source": [
    "check = pd.read_csv('train_data.csv').dropna()\n",
    "print(len(check['highlights']))    \n",
    "print(len(check['highlights']))   \n",
    "data = check.drop_duplicates(subset = 'highlights')\n",
    "print(len(data['highlights']))\n",
    "print(len(data['highlights']))   "
   ]
  },
  {
   "cell_type": "markdown",
   "metadata": {},
   "source": [
    "# 데이터 길이"
   ]
  },
  {
   "cell_type": "code",
   "execution_count": 98,
   "metadata": {},
   "outputs": [
    {
     "name": "stdout",
     "output_type": "stream",
     "text": [
      "congressman jared polis d colorado district 02 congressman jason chaffetz r utah district 03\n",
      "14\n",
      "2304\n",
      "100000\n",
      "757.25586\n",
      "[14, 26, 34, 39, 40, 46, 46, 48, 48, 49, 51, 53, 53, 54, 55, 56, 57, 59, 59, 60, 60, 64, 64, 64, 65, 66, 66, 68, 69, 69, 70, 71, 72, 72, 72, 73, 73, 73, 74, 74, 74, 75, 75, 75, 76, 76, 76, 78, 80, 80]\n"
     ]
    }
   ],
   "source": [
    "#story = pd.read_csv('test_data.csv').dropna()\n",
    "story = pd.read_csv('train_data.csv').dropna()\n",
    "\n",
    "h_count_list = []\n",
    "for h in story['story']:\n",
    "    c = len(h.split(' '))\n",
    "    h_count_list.append(c)\n",
    "    \n",
    "    if c ==14:\n",
    "        print(h)\n",
    "\n",
    "\n",
    "h_count_list.sort()\n",
    "print(min(h_count_list))\n",
    "print(max(h_count_list))\n",
    "print(len(h_count_list))\n",
    "print(sum(h_count_list)/len(h_count_list))\n",
    "print(h_count_list[:50])"
   ]
  }
 ],
 "metadata": {
  "kernelspec": {
   "display_name": "Python 3",
   "language": "python",
   "name": "python3"
  },
  "language_info": {
   "codemirror_mode": {
    "name": "ipython",
    "version": 3
   },
   "file_extension": ".py",
   "mimetype": "text/x-python",
   "name": "python",
   "nbconvert_exporter": "python",
   "pygments_lexer": "ipython3",
   "version": "3.6.8"
  }
 },
 "nbformat": 4,
 "nbformat_minor": 2
}
